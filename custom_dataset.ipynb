{
 "cells": [
  {
   "cell_type": "markdown",
   "metadata": {
    "id": "QxbjLMGecc9z"
   },
   "source": [
    "# Create custom dataset\n",
    "\n",
    "CIFAR (foreground) on ImageNet (background)\n",
    "\n",
    "Size of the output images: **32x32**\n"
   ]
  },
  {
   "cell_type": "code",
   "execution_count": 9,
   "metadata": {
    "colab": {
     "base_uri": "https://localhost:8080/"
    },
    "id": "kzZU7iUwnV4S",
    "outputId": "b838dd6b-1524-4143-88e9-26d75b25a4b3"
   },
   "outputs": [
    {
     "name": "stdout",
     "output_type": "stream",
     "text": [
      "Mounted at /content/drive\n"
     ]
    }
   ],
   "source": [
    "from google.colab import drive\n",
    "drive.mount('/content/drive')"
   ]
  },
  {
   "cell_type": "code",
   "execution_count": 10,
   "metadata": {
    "id": "-zif2P2grae-"
   },
   "outputs": [],
   "source": [
    "path = ('/content/drive/Shareddrives/CSCI566-Project')"
   ]
  },
  {
   "cell_type": "code",
   "execution_count": 4,
   "metadata": {
    "id": "CvAFrPlS4bLU"
   },
   "outputs": [],
   "source": [
    "# gpu_info = !nvidia-smi -i 0\n",
    "# gpu_info = '\\n'.join(gpu_info)\n",
    "# print(gpu_info)\n",
    "\n",
    "from datetime import datetime\n",
    "from functools import partial\n",
    "from PIL import Image\n",
    "from torch.utils.data import DataLoader, Dataset\n",
    "from torchvision import transforms\n",
    "from torchvision.datasets import CIFAR10\n",
    "from torchvision.models import resnet\n",
    "from tqdm import tqdm\n",
    "import argparse\n",
    "import json\n",
    "import math\n",
    "import os\n",
    "import pandas as pd\n",
    "import torch\n",
    "import torch.nn as nn\n",
    "import torch.nn.functional as F\n",
    "from PIL import Image\n",
    "import numpy as np\n",
    "from IPython.display import Image as Im\n",
    "import random"
   ]
  },
  {
   "cell_type": "code",
   "execution_count": 38,
   "metadata": {
    "id": "9Ig1QI0W24SL"
   },
   "outputs": [],
   "source": [
    "def copypaste(cifar_img):\n",
    "\n",
    "    cifar_size = (16, 16)\n",
    "    inet_size = (32, 32)\n",
    "\n",
    "    imagenet_path = path + '/tiny-imagenet-200/images/'\n",
    "    tiny_imagenet = random.choice(os.listdir(imagenet_path))\n",
    "    image = Image.open(imagenet_path + tiny_imagenet)\n",
    "\n",
    "    \n",
    "    image = image.resize(inet_size)\n",
    "    cifar_img = cifar_img.resize(cifar_size)\n",
    "\n",
    "    max_loc = inet_size[0] - cifar_size[0]\n",
    "    x = random.randint(0, max_loc)\n",
    "    y = random.randint(0, max_loc)\n",
    "\n",
    "    x1, y1, x2, y2 = x, y, x + cifar_size[0], y + cifar_size[0]\n",
    "    image.paste(cifar_img, (x1, y1, x2, y2)) #, mask = cif)\n",
    "\n",
    "    return np.asarray(image)\n",
    "    \n",
    "# cifar = f'{path}/cifar_single_image.jpeg'\n",
    "# cifar = Image.open(cifar)\n",
    "# cifar = np.asarray(cifar)\n",
    "# augmented = copypaste(cifar)"
   ]
  },
  {
   "cell_type": "code",
   "execution_count": 6,
   "metadata": {
    "colab": {
     "base_uri": "https://localhost:8080/",
     "height": 84,
     "referenced_widgets": [
      "0b2b1d5a46064fc58c80a7e325a18471",
      "d40258fb58af40baa99ffb58c3857034",
      "3ecdd01251d243c6b25508a976ecb129",
      "a0c440fcfb4e4d7196d37d3bc9325112",
      "5308c4ca3ff84d4d9956f9e542828f5c",
      "f91e84c8a1f44d42b67767645a61a644",
      "63e9bb97b7a84fa8ac64e98c1135d13e",
      "074568e43e324d7892f9abac05781a9f",
      "2d94b0f8e7d24b3eb036a284f132b546",
      "146698e594dc47bea3dfd54dc8f89078",
      "dc2d77605be1464e8738d20b35164a6f"
     ]
    },
    "id": "TaGxx8AyXB7V",
    "outputId": "b9b8f06e-859f-42fb-8357-dbe665583bce"
   },
   "outputs": [
    {
     "name": "stdout",
     "output_type": "stream",
     "text": [
      "Downloading https://www.cs.toronto.edu/~kriz/cifar-10-python.tar.gz to data/cifar-10-python.tar.gz\n"
     ]
    },
    {
     "data": {
      "application/vnd.jupyter.widget-view+json": {
       "model_id": "0b2b1d5a46064fc58c80a7e325a18471",
       "version_major": 2,
       "version_minor": 0
      },
      "text/plain": [
       "  0%|          | 0/170498071 [00:00<?, ?it/s]"
      ]
     },
     "metadata": {},
     "output_type": "display_data"
    },
    {
     "name": "stdout",
     "output_type": "stream",
     "text": [
      "Extracting data/cifar-10-python.tar.gz to data\n"
     ]
    }
   ],
   "source": [
    "transform = transforms.Compose([copypaste])\n",
    "\n",
    "cifar_loader = CIFAR10(root='data', train=True, transform=transform, download=True)\n",
    "cifar_loader = DataLoader(cifar_loader, batch_size=1, shuffle=False, num_workers=0, pin_memory=True)"
   ]
  },
  {
   "cell_type": "code",
   "execution_count": 35,
   "metadata": {
    "id": "9kAai5elc37X"
   },
   "outputs": [],
   "source": [
    "def create_dataset(dataset_size):\n",
    "  \"\"\"Creates jped files in the format <labelindex_number.jpeg> e.g. 9_00001.jpg\"\"\"\n",
    "  \n",
    "  transform = transforms.ToPILImage()\n",
    "\n",
    "  # create new directory for the new custom images\n",
    "  dataset_path = path + '/custom_dataset'\n",
    "  if not os.path.exists(dataset_path):\n",
    "    os.mkdir(dataset_path)\n",
    "\n",
    "  # check if the directory is empty\n",
    "  contents = [file for file in os.listdir(dataset_path) if file.endswith(\".jpeg\")]\n",
    "  if len(contents) != 0:\n",
    "    print(\"The directory already contains image data. Empty directory before creating new data.\")\n",
    "    return\n",
    "\n",
    "  num_chars = len(str(dataset_size))\n",
    "  i = 0\n",
    "  for cifar_img, target in cifar_loader:\n",
    "    img = transform(cifar_img[0].permute(2, 0, 1))\n",
    "    zero_padded_i = str(i + 1).rjust(num_chars, '0')\n",
    "    file_path = f'{path}/custom_dataset/{target.item()}_{zero_padded_i}.jpeg' \n",
    "    img.save(file_path)\n",
    "    i += 1\n",
    "    if i >= dataset_size:\n",
    "      print(\"Dataset created successfully!\")\n",
    "      return \n"
   ]
  },
  {
   "cell_type": "code",
   "execution_count": 39,
   "metadata": {
    "colab": {
     "base_uri": "https://localhost:8080/"
    },
    "id": "QBY0qeJnTmmB",
    "outputId": "59b62490-a93e-4544-a26e-93aead93c30a"
   },
   "outputs": [
    {
     "name": "stdout",
     "output_type": "stream",
     "text": [
      "Dataset created successfully!\n"
     ]
    }
   ],
   "source": [
    "dataset_size=10\n",
    "create_dataset(dataset_size)"
   ]
  },
  {
   "cell_type": "code",
   "execution_count": 37,
   "metadata": {
    "id": "DxvI-_mVo59N"
   },
   "outputs": [],
   "source": [
    "class CopyPasteDataset(Dataset):\n",
    "\n",
    "  def __init__(\n",
    "        self,\n",
    "        root_dir: str,\n",
    "        transform=transform,\n",
    "        train: bool = True,   # optional if we decide to separate dataset into train and test\n",
    "    ):\n",
    "    self.transform = transform\n",
    "\n",
    "    self.data = []\n",
    "    self.labels = []\n",
    "\n",
    "    for filename in os.listdir(root_dir):\n",
    "      if filename.endswith(\".jpeg\"):\n",
    "        image = Image.open(f'{root_dir}/{filename}')\n",
    "\n",
    "        data = np.asarray(image)\n",
    "\n",
    "        label = int(filename.split('_')[0])\n",
    "      \n",
    "        self.data.append(data)\n",
    "        self.labels.append(label)\n",
    "\n",
    "  def __len__(self):\n",
    "      return len(self.data)\n",
    "\n",
    "  def __getitem__(self, index: int):\n",
    "\n",
    "      img, target = self.data[index], self.labels[index]\n",
    "\n",
    "      img = Image.fromarray(img)\n",
    "\n",
    "      if self.transform is not None:\n",
    "        img = self.transform(img)\n",
    "\n",
    "      return img, target\n"
   ]
  },
  {
   "cell_type": "code",
   "execution_count": 176,
   "metadata": {
    "colab": {
     "base_uri": "https://localhost:8080/"
    },
    "id": "0_qReG7LtcbH",
    "outputId": "1ea2e9c3-5dd4-4b24-8c2d-924dbade6fb3"
   },
   "outputs": [
    {
     "name": "stdout",
     "output_type": "stream",
     "text": [
      "tensor([4, 7, 3, 4])\n",
      "tensor([1, 2, 8, 6])\n",
      "tensor([9, 1, 9])\n"
     ]
    }
   ],
   "source": [
    "transform = transforms.Compose([             \n",
    "    transforms.ToTensor()])\n",
    "\n",
    "cp_loader = CopyPasteDataset(root_dir=f'{path}/custom_dataset', transform=transform)\n",
    "cp_loader = DataLoader(cp_loader, batch_size=4, shuffle=True, num_workers=1)\n",
    "\n",
    "for img, target in cp_loader:\n",
    "  print(target)"
   ]
  }
 ],
 "metadata": {
  "accelerator": "GPU",
  "colab": {
   "provenance": [],
   "toc_visible": true
  },
  "environment": {
   "name": "pytorch-gpu.1-4.m50",
   "type": "gcloud",
   "uri": "gcr.io/deeplearning-platform-release/pytorch-gpu.1-4:m50"
  },
  "kernelspec": {
   "display_name": "Python 3 (ipykernel)",
   "language": "python",
   "name": "python3"
  },
  "language_info": {
   "codemirror_mode": {
    "name": "ipython",
    "version": 3
   },
   "file_extension": ".py",
   "mimetype": "text/x-python",
   "name": "python",
   "nbconvert_exporter": "python",
   "pygments_lexer": "ipython3",
   "version": "3.9.16"
  },
  "widgets": {
   "application/vnd.jupyter.widget-state+json": {
    "074568e43e324d7892f9abac05781a9f": {
     "model_module": "@jupyter-widgets/base",
     "model_module_version": "1.2.0",
     "model_name": "LayoutModel",
     "state": {
      "_model_module": "@jupyter-widgets/base",
      "_model_module_version": "1.2.0",
      "_model_name": "LayoutModel",
      "_view_count": null,
      "_view_module": "@jupyter-widgets/base",
      "_view_module_version": "1.2.0",
      "_view_name": "LayoutView",
      "align_content": null,
      "align_items": null,
      "align_self": null,
      "border": null,
      "bottom": null,
      "display": null,
      "flex": null,
      "flex_flow": null,
      "grid_area": null,
      "grid_auto_columns": null,
      "grid_auto_flow": null,
      "grid_auto_rows": null,
      "grid_column": null,
      "grid_gap": null,
      "grid_row": null,
      "grid_template_areas": null,
      "grid_template_columns": null,
      "grid_template_rows": null,
      "height": null,
      "justify_content": null,
      "justify_items": null,
      "left": null,
      "margin": null,
      "max_height": null,
      "max_width": null,
      "min_height": null,
      "min_width": null,
      "object_fit": null,
      "object_position": null,
      "order": null,
      "overflow": null,
      "overflow_x": null,
      "overflow_y": null,
      "padding": null,
      "right": null,
      "top": null,
      "visibility": null,
      "width": null
     }
    },
    "0b2b1d5a46064fc58c80a7e325a18471": {
     "model_module": "@jupyter-widgets/controls",
     "model_module_version": "1.5.0",
     "model_name": "HBoxModel",
     "state": {
      "_dom_classes": [],
      "_model_module": "@jupyter-widgets/controls",
      "_model_module_version": "1.5.0",
      "_model_name": "HBoxModel",
      "_view_count": null,
      "_view_module": "@jupyter-widgets/controls",
      "_view_module_version": "1.5.0",
      "_view_name": "HBoxView",
      "box_style": "",
      "children": [
       "IPY_MODEL_d40258fb58af40baa99ffb58c3857034",
       "IPY_MODEL_3ecdd01251d243c6b25508a976ecb129",
       "IPY_MODEL_a0c440fcfb4e4d7196d37d3bc9325112"
      ],
      "layout": "IPY_MODEL_5308c4ca3ff84d4d9956f9e542828f5c"
     }
    },
    "146698e594dc47bea3dfd54dc8f89078": {
     "model_module": "@jupyter-widgets/base",
     "model_module_version": "1.2.0",
     "model_name": "LayoutModel",
     "state": {
      "_model_module": "@jupyter-widgets/base",
      "_model_module_version": "1.2.0",
      "_model_name": "LayoutModel",
      "_view_count": null,
      "_view_module": "@jupyter-widgets/base",
      "_view_module_version": "1.2.0",
      "_view_name": "LayoutView",
      "align_content": null,
      "align_items": null,
      "align_self": null,
      "border": null,
      "bottom": null,
      "display": null,
      "flex": null,
      "flex_flow": null,
      "grid_area": null,
      "grid_auto_columns": null,
      "grid_auto_flow": null,
      "grid_auto_rows": null,
      "grid_column": null,
      "grid_gap": null,
      "grid_row": null,
      "grid_template_areas": null,
      "grid_template_columns": null,
      "grid_template_rows": null,
      "height": null,
      "justify_content": null,
      "justify_items": null,
      "left": null,
      "margin": null,
      "max_height": null,
      "max_width": null,
      "min_height": null,
      "min_width": null,
      "object_fit": null,
      "object_position": null,
      "order": null,
      "overflow": null,
      "overflow_x": null,
      "overflow_y": null,
      "padding": null,
      "right": null,
      "top": null,
      "visibility": null,
      "width": null
     }
    },
    "2d94b0f8e7d24b3eb036a284f132b546": {
     "model_module": "@jupyter-widgets/controls",
     "model_module_version": "1.5.0",
     "model_name": "ProgressStyleModel",
     "state": {
      "_model_module": "@jupyter-widgets/controls",
      "_model_module_version": "1.5.0",
      "_model_name": "ProgressStyleModel",
      "_view_count": null,
      "_view_module": "@jupyter-widgets/base",
      "_view_module_version": "1.2.0",
      "_view_name": "StyleView",
      "bar_color": null,
      "description_width": ""
     }
    },
    "3ecdd01251d243c6b25508a976ecb129": {
     "model_module": "@jupyter-widgets/controls",
     "model_module_version": "1.5.0",
     "model_name": "FloatProgressModel",
     "state": {
      "_dom_classes": [],
      "_model_module": "@jupyter-widgets/controls",
      "_model_module_version": "1.5.0",
      "_model_name": "FloatProgressModel",
      "_view_count": null,
      "_view_module": "@jupyter-widgets/controls",
      "_view_module_version": "1.5.0",
      "_view_name": "ProgressView",
      "bar_style": "success",
      "description": "",
      "description_tooltip": null,
      "layout": "IPY_MODEL_074568e43e324d7892f9abac05781a9f",
      "max": 170498071,
      "min": 0,
      "orientation": "horizontal",
      "style": "IPY_MODEL_2d94b0f8e7d24b3eb036a284f132b546",
      "value": 170498071
     }
    },
    "5308c4ca3ff84d4d9956f9e542828f5c": {
     "model_module": "@jupyter-widgets/base",
     "model_module_version": "1.2.0",
     "model_name": "LayoutModel",
     "state": {
      "_model_module": "@jupyter-widgets/base",
      "_model_module_version": "1.2.0",
      "_model_name": "LayoutModel",
      "_view_count": null,
      "_view_module": "@jupyter-widgets/base",
      "_view_module_version": "1.2.0",
      "_view_name": "LayoutView",
      "align_content": null,
      "align_items": null,
      "align_self": null,
      "border": null,
      "bottom": null,
      "display": null,
      "flex": null,
      "flex_flow": null,
      "grid_area": null,
      "grid_auto_columns": null,
      "grid_auto_flow": null,
      "grid_auto_rows": null,
      "grid_column": null,
      "grid_gap": null,
      "grid_row": null,
      "grid_template_areas": null,
      "grid_template_columns": null,
      "grid_template_rows": null,
      "height": null,
      "justify_content": null,
      "justify_items": null,
      "left": null,
      "margin": null,
      "max_height": null,
      "max_width": null,
      "min_height": null,
      "min_width": null,
      "object_fit": null,
      "object_position": null,
      "order": null,
      "overflow": null,
      "overflow_x": null,
      "overflow_y": null,
      "padding": null,
      "right": null,
      "top": null,
      "visibility": null,
      "width": null
     }
    },
    "63e9bb97b7a84fa8ac64e98c1135d13e": {
     "model_module": "@jupyter-widgets/controls",
     "model_module_version": "1.5.0",
     "model_name": "DescriptionStyleModel",
     "state": {
      "_model_module": "@jupyter-widgets/controls",
      "_model_module_version": "1.5.0",
      "_model_name": "DescriptionStyleModel",
      "_view_count": null,
      "_view_module": "@jupyter-widgets/base",
      "_view_module_version": "1.2.0",
      "_view_name": "StyleView",
      "description_width": ""
     }
    },
    "a0c440fcfb4e4d7196d37d3bc9325112": {
     "model_module": "@jupyter-widgets/controls",
     "model_module_version": "1.5.0",
     "model_name": "HTMLModel",
     "state": {
      "_dom_classes": [],
      "_model_module": "@jupyter-widgets/controls",
      "_model_module_version": "1.5.0",
      "_model_name": "HTMLModel",
      "_view_count": null,
      "_view_module": "@jupyter-widgets/controls",
      "_view_module_version": "1.5.0",
      "_view_name": "HTMLView",
      "description": "",
      "description_tooltip": null,
      "layout": "IPY_MODEL_146698e594dc47bea3dfd54dc8f89078",
      "placeholder": "​",
      "style": "IPY_MODEL_dc2d77605be1464e8738d20b35164a6f",
      "value": " 170498071/170498071 [00:03&lt;00:00, 53721826.19it/s]"
     }
    },
    "d40258fb58af40baa99ffb58c3857034": {
     "model_module": "@jupyter-widgets/controls",
     "model_module_version": "1.5.0",
     "model_name": "HTMLModel",
     "state": {
      "_dom_classes": [],
      "_model_module": "@jupyter-widgets/controls",
      "_model_module_version": "1.5.0",
      "_model_name": "HTMLModel",
      "_view_count": null,
      "_view_module": "@jupyter-widgets/controls",
      "_view_module_version": "1.5.0",
      "_view_name": "HTMLView",
      "description": "",
      "description_tooltip": null,
      "layout": "IPY_MODEL_f91e84c8a1f44d42b67767645a61a644",
      "placeholder": "​",
      "style": "IPY_MODEL_63e9bb97b7a84fa8ac64e98c1135d13e",
      "value": "100%"
     }
    },
    "dc2d77605be1464e8738d20b35164a6f": {
     "model_module": "@jupyter-widgets/controls",
     "model_module_version": "1.5.0",
     "model_name": "DescriptionStyleModel",
     "state": {
      "_model_module": "@jupyter-widgets/controls",
      "_model_module_version": "1.5.0",
      "_model_name": "DescriptionStyleModel",
      "_view_count": null,
      "_view_module": "@jupyter-widgets/base",
      "_view_module_version": "1.2.0",
      "_view_name": "StyleView",
      "description_width": ""
     }
    },
    "f91e84c8a1f44d42b67767645a61a644": {
     "model_module": "@jupyter-widgets/base",
     "model_module_version": "1.2.0",
     "model_name": "LayoutModel",
     "state": {
      "_model_module": "@jupyter-widgets/base",
      "_model_module_version": "1.2.0",
      "_model_name": "LayoutModel",
      "_view_count": null,
      "_view_module": "@jupyter-widgets/base",
      "_view_module_version": "1.2.0",
      "_view_name": "LayoutView",
      "align_content": null,
      "align_items": null,
      "align_self": null,
      "border": null,
      "bottom": null,
      "display": null,
      "flex": null,
      "flex_flow": null,
      "grid_area": null,
      "grid_auto_columns": null,
      "grid_auto_flow": null,
      "grid_auto_rows": null,
      "grid_column": null,
      "grid_gap": null,
      "grid_row": null,
      "grid_template_areas": null,
      "grid_template_columns": null,
      "grid_template_rows": null,
      "height": null,
      "justify_content": null,
      "justify_items": null,
      "left": null,
      "margin": null,
      "max_height": null,
      "max_width": null,
      "min_height": null,
      "min_width": null,
      "object_fit": null,
      "object_position": null,
      "order": null,
      "overflow": null,
      "overflow_x": null,
      "overflow_y": null,
      "padding": null,
      "right": null,
      "top": null,
      "visibility": null,
      "width": null
     }
    }
   }
  }
 },
 "nbformat": 4,
 "nbformat_minor": 1
}
