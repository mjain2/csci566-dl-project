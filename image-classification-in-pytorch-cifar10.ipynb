{
 "cells": [
  {
   "cell_type": "markdown",
   "metadata": {
    "papermill": {
     "duration": 0.022376,
     "end_time": "2020-11-06T00:15:34.434234",
     "exception": false,
     "start_time": "2020-11-06T00:15:34.411858",
     "status": "completed"
    },
    "tags": []
   },
   "source": [
    "# Loading and normalizing images using TorchVision\n"
   ]
  },
  {
   "cell_type": "code",
   "execution_count": 7,
   "metadata": {
    "execution": {
     "iopub.execute_input": "2020-11-06T00:15:34.484628Z",
     "iopub.status.busy": "2020-11-06T00:15:34.483829Z",
     "iopub.status.idle": "2020-11-06T00:15:35.592124Z",
     "shell.execute_reply": "2020-11-06T00:15:35.591266Z"
    },
    "papermill": {
     "duration": 1.135699,
     "end_time": "2020-11-06T00:15:35.592273",
     "exception": false,
     "start_time": "2020-11-06T00:15:34.456574",
     "status": "completed"
    },
    "tags": []
   },
   "outputs": [],
   "source": [
    "import torch\n",
    "import torchvision\n",
    "import torchvision.transforms as transforms\n",
    "from torch.utils.data import DataLoader, Dataset\n",
    "from torchvision.datasets import CIFAR10\n",
    "import random\n",
    "import os\n",
    "from PIL import Image\n",
    "import numpy as np"
   ]
  },
  {
   "cell_type": "code",
   "execution_count": 8,
   "metadata": {},
   "outputs": [],
   "source": [
    "# load dataset \n",
    "path_to_dataset = 'custom/custom_dataset/'\n",
    "y = [5, 6, 7, 10, 4, 1, 8, 9, 2, 3]"
   ]
  },
  {
   "cell_type": "code",
   "execution_count": 9,
   "metadata": {},
   "outputs": [],
   "source": [
    "def copypaste(cifar_img):\n",
    "\n",
    "    cifar_size = (16, 16)\n",
    "    inet_size = (32, 32)\n",
    "    \n",
    "    imagenet_path = '/Users/dweepa/Documents/CSCI566/BackgroundInvariance/data/tiny-imagenet-200/train/n01443537/images/'\n",
    "    tiny_imagenet = random.choice(os.listdir(imagenet_path))\n",
    "    image = Image.open(imagenet_path + tiny_imagenet)\n",
    "#     print(image)\n",
    "\n",
    "    \n",
    "    image = image.resize(inet_size)\n",
    "    cifar_img = cifar_img.resize(cifar_size)\n",
    "\n",
    "    max_loc = inet_size[0] - cifar_size[0]\n",
    "    x = random.randint(0, max_loc)\n",
    "    y = random.randint(0, max_loc)\n",
    "\n",
    "    x1, y1, x2, y2 = x, y, x + cifar_size[0], y + cifar_size[0]\n",
    "    image.paste(cifar_img, (x1, y1, x2, y2)) #, mask = cif)\n",
    "\n",
    "    return np.asarray(image)\n",
    "    \n",
    "# cifar = f'{path}/cifar_single_image.jpeg'\n",
    "# cifar = Image.open(cifar)\n",
    "# cifar = np.asarray(cifar)\n",
    "# augmented = copypaste(cifar)"
   ]
  },
  {
   "cell_type": "code",
   "execution_count": 18,
   "metadata": {},
   "outputs": [],
   "source": [
    "transform = transforms.Compose([\n",
    "    copypaste,\n",
    "    transforms.ToTensor(),\n",
    "    transforms.Normalize((0.5, 0.5, 0.5), (0.5, 0.5, 0.5))\n",
    "])"
   ]
  },
  {
   "cell_type": "code",
   "execution_count": 19,
   "metadata": {
    "execution": {
     "iopub.execute_input": "2020-11-06T00:15:35.649623Z",
     "iopub.status.busy": "2020-11-06T00:15:35.648818Z",
     "iopub.status.idle": "2020-11-06T00:15:43.506724Z",
     "shell.execute_reply": "2020-11-06T00:15:43.505942Z"
    },
    "papermill": {
     "duration": 7.891498,
     "end_time": "2020-11-06T00:15:43.506855",
     "exception": false,
     "start_time": "2020-11-06T00:15:35.615357",
     "status": "completed"
    },
    "tags": []
   },
   "outputs": [
    {
     "name": "stdout",
     "output_type": "stream",
     "text": [
      "Files already downloaded and verified\n",
      "Files already downloaded and verified\n"
     ]
    }
   ],
   "source": [
    "trainset = CIFAR10(root='./data', train=True, download=True, transform=transform)\n",
    "trainloader = DataLoader(trainset, batch_size=6, shuffle=True, num_workers=0)\n",
    "\n",
    "testset = CIFAR10(root='./data', train=False, download=True, transform=transform)\n",
    "testloader = DataLoader(testset, batch_size=6, shuffle=False, num_workers=0)\n",
    "\n",
    "classes = ('plane', 'car', 'bird', 'cat',\n",
    "           'deer', 'dog', 'frog', 'horse', 'ship', 'truck')"
   ]
  },
  {
   "cell_type": "code",
   "execution_count": 20,
   "metadata": {},
   "outputs": [
    {
     "name": "stdout",
     "output_type": "stream",
     "text": [
      "tensor([[[[-0.6000, -0.3255, -0.6078,  ..., -0.7569, -0.7647, -0.7725],\n",
      "          [-0.5608, -0.5373, -0.7098,  ..., -0.7804, -0.8510, -0.8588],\n",
      "          [-0.5373, -0.5765, -0.7725,  ..., -0.7725, -0.9059, -0.9216],\n",
      "          ...,\n",
      "          [-0.6627, -0.3020, -0.3725,  ..., -0.5451,  0.1373,  0.2157],\n",
      "          [-0.7725, -0.4824, -0.5137,  ..., -0.3333,  0.0667,  0.1608],\n",
      "          [-0.8902, -0.7255, -0.5843,  ..., -0.2078, -0.0667,  0.1059]],\n",
      "\n",
      "         [[-0.6157, -0.3333, -0.6000,  ..., -0.8039, -0.8196, -0.8353],\n",
      "          [-0.5765, -0.5451, -0.7020,  ..., -0.8196, -0.8667, -0.8588],\n",
      "          [-0.5451, -0.5765, -0.7647,  ..., -0.7961, -0.8902, -0.8824],\n",
      "          ...,\n",
      "          [-0.3804,  0.2784,  0.2471,  ..., -0.6706, -0.0980, -0.1137],\n",
      "          [-0.4667,  0.0667,  0.0980,  ..., -0.4275, -0.1216, -0.1216],\n",
      "          [-0.5294, -0.2078,  0.0353,  ..., -0.2706, -0.2078, -0.1294]],\n",
      "\n",
      "         [[-0.5216, -0.3020, -0.6471,  ..., -0.7490, -0.8275, -0.8902],\n",
      "          [-0.4980, -0.5137, -0.7569,  ..., -0.7961, -0.8667, -0.8824],\n",
      "          [-0.4980, -0.5686, -0.8196,  ..., -0.8196, -0.8824, -0.8510],\n",
      "          ...,\n",
      "          [-0.6471, -0.2941, -0.3804,  ..., -0.6706, -0.0588, -0.0588],\n",
      "          [-0.7490, -0.4588, -0.5137,  ..., -0.3961, -0.0588, -0.0275],\n",
      "          [-0.8431, -0.6706, -0.5765,  ..., -0.2078, -0.0980,  0.0196]]],\n",
      "\n",
      "\n",
      "        [[[-0.8431, -0.7020, -0.5608,  ..., -0.2784, -0.2863, -0.4353],\n",
      "          [-0.7725, -0.5686, -0.5765,  ..., -0.6941, -0.4353, -0.3490],\n",
      "          [-0.7098, -0.6000, -0.2941,  ..., -0.0902, -0.1608, -0.4824],\n",
      "          ...,\n",
      "          [ 0.2078,  0.0667, -0.5529,  ..., -0.3804, -0.0588,  0.3804],\n",
      "          [ 0.8902, -0.0980, -0.7647,  ..., -0.4588,  0.1294,  0.5216],\n",
      "          [ 0.2627,  0.1137, -0.6157,  ...,  0.4118,  0.6157,  0.6863]],\n",
      "\n",
      "         [[-0.9137, -0.8118, -0.7020,  ..., -0.2941, -0.3020, -0.4353],\n",
      "          [-0.8588, -0.6784, -0.7020,  ..., -0.6863, -0.4431, -0.3569],\n",
      "          [-0.8039, -0.7098, -0.3882,  ..., -0.0588, -0.1529, -0.4902],\n",
      "          ...,\n",
      "          [ 0.2157,  0.0510, -0.5843,  ..., -0.2941, -0.0431,  0.3412],\n",
      "          [ 0.8980, -0.1216, -0.7882,  ..., -0.3804,  0.1059,  0.4118],\n",
      "          [ 0.2706,  0.1373, -0.6157,  ...,  0.4745,  0.5451,  0.5137]],\n",
      "\n",
      "         [[-1.0000, -0.8431, -0.6784,  ..., -0.1451, -0.2000, -0.4353],\n",
      "          [-0.8902, -0.7098, -0.8275,  ..., -0.7176, -0.4745, -0.4118],\n",
      "          [-0.7176, -0.7333, -0.6549,  ..., -0.3569, -0.3882, -0.6549],\n",
      "          ...,\n",
      "          [-0.0431, -0.0431, -0.6157,  ..., -0.4275, -0.3176, -0.0824],\n",
      "          [ 0.6549, -0.2392, -0.8510,  ..., -0.5608, -0.3412, -0.2549],\n",
      "          [ 0.1294, -0.1137, -0.8118,  ...,  0.2784, -0.0275, -0.3255]]],\n",
      "\n",
      "\n",
      "        [[[ 0.3647,  0.4039,  0.3882,  ...,  0.8824,  0.9137,  0.9373],\n",
      "          [ 0.3333,  0.3569,  0.3647,  ...,  0.9137,  0.9373,  0.9765],\n",
      "          [ 0.3020,  0.3176,  0.3412,  ...,  0.9373,  0.9608,  0.9765],\n",
      "          ...,\n",
      "          [-0.9529, -0.9137, -0.9059,  ..., -0.5373, -0.4980, -0.4667],\n",
      "          [-0.9686, -0.9294, -0.9059,  ..., -0.4902, -0.5059, -0.5294],\n",
      "          [-0.9686, -0.9922, -0.9765,  ..., -0.5686, -0.5529, -0.6706]],\n",
      "\n",
      "         [[ 0.3412,  0.3804,  0.3804,  ...,  0.8275,  0.8510,  0.8745],\n",
      "          [ 0.3098,  0.3412,  0.3569,  ...,  0.8510,  0.8745,  0.8902],\n",
      "          [ 0.2941,  0.3098,  0.3333,  ...,  0.8667,  0.8745,  0.8902],\n",
      "          ...,\n",
      "          [-0.8588, -0.8196, -0.8118,  ..., -0.3098, -0.2549, -0.2157],\n",
      "          [-0.8902, -0.8510, -0.8275,  ..., -0.2863, -0.2784, -0.2941],\n",
      "          [-0.9059, -0.9373, -0.9137,  ..., -0.3804, -0.3412, -0.4431]],\n",
      "\n",
      "         [[ 0.1922,  0.2314,  0.2235,  ...,  0.9373,  0.9686,  0.9922],\n",
      "          [ 0.1608,  0.1922,  0.2157,  ...,  0.9686,  0.9922,  1.0000],\n",
      "          [ 0.1529,  0.1686,  0.2078,  ...,  0.9765,  1.0000,  1.0000],\n",
      "          ...,\n",
      "          [-0.9373, -0.8980, -0.9059,  ..., -0.3020, -0.2078, -0.1608],\n",
      "          [-0.9608, -0.9216, -0.9137,  ..., -0.2627, -0.2314, -0.2314],\n",
      "          [-0.9686, -0.9922, -0.9922,  ..., -0.3490, -0.2784, -0.3647]]],\n",
      "\n",
      "\n",
      "        [[[-0.7098, -0.5765, -0.5216,  ..., -0.5216, -0.5294, -0.4588],\n",
      "          [-0.5451, -0.6235, -0.6706,  ..., -0.4353, -0.4745, -0.5686],\n",
      "          [-0.5059, -0.7412, -0.7020,  ..., -0.4980, -0.5686, -0.6941],\n",
      "          ...,\n",
      "          [-0.5294, -0.7176, -0.8353,  ..., -0.7490, -0.7647, -0.7804],\n",
      "          [-0.7804, -0.7804, -0.8118,  ..., -0.7098, -0.7333, -0.7647],\n",
      "          [-0.7804, -0.7882, -0.8039,  ..., -0.7020, -0.7333, -0.7647]],\n",
      "\n",
      "         [[-0.5843, -0.4275, -0.3412,  ..., -0.2314, -0.2235, -0.1608],\n",
      "          [-0.4667, -0.5294, -0.5529,  ..., -0.1373, -0.1765, -0.2706],\n",
      "          [-0.4510, -0.6784, -0.6314,  ..., -0.2157, -0.2863, -0.4196],\n",
      "          ...,\n",
      "          [-0.5686, -0.7412, -0.8353,  ..., -0.7490, -0.7725, -0.7804],\n",
      "          [-0.8275, -0.8118, -0.8039,  ..., -0.7098, -0.7490, -0.7804],\n",
      "          [-0.8275, -0.8196, -0.8039,  ..., -0.7020, -0.7490, -0.8039]],\n",
      "\n",
      "         [[-0.6549, -0.5373, -0.5294,  ..., -0.6157, -0.5843, -0.4745],\n",
      "          [-0.5216, -0.6157, -0.6941,  ..., -0.5216, -0.5216, -0.5686],\n",
      "          [-0.5294, -0.7804, -0.7569,  ..., -0.5843, -0.6157, -0.6941],\n",
      "          ...,\n",
      "          [-0.7333, -0.8745, -0.9137,  ..., -0.7490, -0.7490, -0.7412],\n",
      "          [-0.8275, -0.8039, -0.7961,  ..., -0.7333, -0.7333, -0.7333],\n",
      "          [-0.7176, -0.7255, -0.7412,  ..., -0.7333, -0.7333, -0.7490]]],\n",
      "\n",
      "\n",
      "        [[[ 0.9529,  1.0000,  0.9765,  ...,  1.0000,  0.9608,  0.6471],\n",
      "          [ 0.9765,  1.0000,  1.0000,  ...,  1.0000,  1.0000,  0.9686],\n",
      "          [ 1.0000,  1.0000,  1.0000,  ...,  1.0000,  1.0000,  1.0000],\n",
      "          ...,\n",
      "          [-0.0275,  0.3176,  0.4275,  ...,  0.9608,  0.6314,  0.0902],\n",
      "          [-0.1765,  0.2627,  0.2941,  ...,  0.8588,  0.4745,  0.0118],\n",
      "          [-0.2941,  0.1529,  0.1451,  ...,  0.6235,  0.3176, -0.0275]],\n",
      "\n",
      "         [[ 0.8431,  0.9059,  0.9216,  ...,  1.0000,  0.8824,  0.4824],\n",
      "          [ 0.9137,  0.9529,  0.9608,  ...,  0.9843,  0.9765,  0.8588],\n",
      "          [ 0.9922,  0.9922,  1.0000,  ...,  0.9843,  0.9843,  0.9529],\n",
      "          ...,\n",
      "          [ 0.1294,  0.4824,  0.4824,  ...,  0.8510,  0.5294,  0.0118],\n",
      "          [ 0.0275,  0.4275,  0.3490,  ...,  0.7882,  0.4431,  0.0196],\n",
      "          [-0.0510,  0.3333,  0.2157,  ...,  0.6000,  0.3490,  0.0353]],\n",
      "\n",
      "         [[ 0.5059,  0.6078,  0.6863,  ...,  0.8980,  0.7333,  0.3098],\n",
      "          [ 0.7725,  0.8510,  0.9059,  ...,  0.8980,  0.8667,  0.7333],\n",
      "          [ 0.9843,  1.0000,  1.0000,  ...,  0.9451,  0.9294,  0.8824],\n",
      "          ...,\n",
      "          [-0.5922, -0.5137, -0.2314,  ...,  0.0980, -0.3098, -0.9216],\n",
      "          [-0.8510, -0.5137, -0.2941,  ...,  0.0667, -0.3882, -0.9137],\n",
      "          [-0.9686, -0.5765, -0.3961,  ..., -0.0902, -0.4588, -0.8745]]],\n",
      "\n",
      "\n",
      "        [[[ 0.4510,  0.6235,  0.2627,  ..., -0.7804, -0.8353, -0.8588],\n",
      "          [ 0.4275,  0.5608,  0.1922,  ..., -0.7961, -0.8588, -0.8824],\n",
      "          [ 0.4588,  0.5922,  0.1529,  ..., -0.8039, -0.8431, -0.8588],\n",
      "          ...,\n",
      "          [-0.0039, -0.0039,  0.0431,  ..., -0.1608, -0.1608, -0.1529],\n",
      "          [-0.9216, -0.9059, -0.8902,  ..., -0.8667, -0.8667, -0.8353],\n",
      "          [-1.0000, -1.0000, -0.9608,  ..., -0.9373, -0.9686, -0.9686]],\n",
      "\n",
      "         [[ 0.4745,  0.6471,  0.2863,  ..., -0.5137, -0.5686, -0.5922],\n",
      "          [ 0.4510,  0.5843,  0.2235,  ..., -0.5294, -0.5922, -0.6157],\n",
      "          [ 0.4745,  0.6157,  0.2000,  ..., -0.5373, -0.5765, -0.5922],\n",
      "          ...,\n",
      "          [ 0.3882,  0.3961,  0.4510,  ...,  0.3882,  0.3804,  0.3961],\n",
      "          [-0.2471, -0.2157, -0.2157,  ..., -0.0275, -0.0275,  0.0196],\n",
      "          [-0.2078, -0.2000, -0.1922,  ..., -0.0353, -0.0510, -0.0353]],\n",
      "\n",
      "         [[ 0.6078,  0.7725,  0.4431,  ..., -0.5059, -0.5608, -0.5843],\n",
      "          [ 0.5765,  0.6941,  0.3647,  ..., -0.5216, -0.5843, -0.6078],\n",
      "          [ 0.5765,  0.6941,  0.3333,  ..., -0.5294, -0.5686, -0.5843],\n",
      "          ...,\n",
      "          [ 0.6000,  0.6078,  0.6784,  ...,  0.5765,  0.5608,  0.5686],\n",
      "          [-0.1922, -0.1608, -0.1608,  ...,  0.0431,  0.0510,  0.0902],\n",
      "          [-0.2549, -0.2392, -0.2157,  ..., -0.0039, -0.0118,  0.0118]]]]) tensor([4, 1, 6, 2, 2, 7])\n"
     ]
    }
   ],
   "source": [
    "for a, b in trainloader:\n",
    "    print(a,b)\n",
    "    break"
   ]
  },
  {
   "cell_type": "markdown",
   "metadata": {
    "papermill": {
     "duration": 0.02393,
     "end_time": "2020-11-06T00:15:43.555617",
     "exception": false,
     "start_time": "2020-11-06T00:15:43.531687",
     "status": "completed"
    },
    "tags": []
   },
   "source": [
    "# Displaying some images"
   ]
  },
  {
   "cell_type": "code",
   "execution_count": 25,
   "metadata": {
    "execution": {
     "iopub.execute_input": "2020-11-06T00:15:43.615700Z",
     "iopub.status.busy": "2020-11-06T00:15:43.613166Z",
     "iopub.status.idle": "2020-11-06T00:15:43.964009Z",
     "shell.execute_reply": "2020-11-06T00:15:43.960786Z"
    },
    "papermill": {
     "duration": 0.38377,
     "end_time": "2020-11-06T00:15:43.964165",
     "exception": false,
     "start_time": "2020-11-06T00:15:43.580395",
     "status": "completed"
    },
    "tags": []
   },
   "outputs": [
    {
     "data": {
      "image/png": "[encoded data removed]",
      "text/plain": [
       "<Figure size 640x480 with 1 Axes>"
      ]
     },
     "metadata": {},
     "output_type": "display_data"
    },
    {
     "name": "stdout",
     "output_type": "stream",
     "text": [
      "  cat   cat  deer  deer   cat   cat\n"
     ]
    }
   ],
   "source": [
    "import matplotlib.pyplot as plt\n",
    "import numpy as np\n",
    "\n",
    "# functions to show an image\n",
    "\n",
    "\n",
    "def imshow(img):\n",
    "    img = img / 2 + 0.5     # unnormalize\n",
    "    npimg = img.numpy()\n",
    "    plt.imshow(np.transpose(npimg, (1, 2, 0)))\n",
    "    plt.show()\n",
    "\n",
    "\n",
    "# get some random training images\n",
    "dataiter = iter(trainloader)\n",
    "images, labels = next(dataiter)\n",
    "\n",
    "# show images\n",
    "imshow(torchvision.utils.make_grid(images))\n",
    "# print labels\n",
    "print(' '.join('%5s' % classes[labels[j]] for j in range(6)))"
   ]
  },
  {
   "cell_type": "markdown",
   "metadata": {
    "papermill": {
     "duration": 0.025997,
     "end_time": "2020-11-06T00:15:44.018664",
     "exception": false,
     "start_time": "2020-11-06T00:15:43.992667",
     "status": "completed"
    },
    "tags": []
   },
   "source": [
    "# Defining a Convolutional Neural Network"
   ]
  },
  {
   "cell_type": "code",
   "execution_count": 22,
   "metadata": {
    "execution": {
     "iopub.execute_input": "2020-11-06T00:15:44.089188Z",
     "iopub.status.busy": "2020-11-06T00:15:44.086609Z",
     "iopub.status.idle": "2020-11-06T00:15:44.094538Z",
     "shell.execute_reply": "2020-11-06T00:15:44.093939Z"
    },
    "papermill": {
     "duration": 0.049749,
     "end_time": "2020-11-06T00:15:44.094667",
     "exception": false,
     "start_time": "2020-11-06T00:15:44.044918",
     "status": "completed"
    },
    "tags": []
   },
   "outputs": [],
   "source": [
    "import torch.nn as nn\n",
    "import torch.nn.functional as F\n",
    "\n",
    "\n",
    "class Net(nn.Module):\n",
    "    def __init__(self):\n",
    "        super(Net, self).__init__()\n",
    "        self.conv1 = nn.Conv2d(3, 6, 5)\n",
    "        self.pool = nn.MaxPool2d(2, 2)\n",
    "        self.conv2 = nn.Conv2d(6, 16, 5)\n",
    "        self.fc1 = nn.Linear(16 * 5 * 5, 120)\n",
    "        self.fc2 = nn.Linear(120, 84)\n",
    "        self.fc3 = nn.Linear(84, 10)\n",
    "\n",
    "    def forward(self, x):\n",
    "        x = self.pool(F.relu(self.conv1(x)))\n",
    "        x = self.pool(F.relu(self.conv2(x)))\n",
    "        x = x.view(-1, 16 * 5 * 5)\n",
    "        x = F.relu(self.fc1(x))\n",
    "        x = F.relu(self.fc2(x))\n",
    "        x = self.fc3(x)\n",
    "        return x\n",
    "\n",
    "\n",
    "net = Net()"
   ]
  },
  {
   "cell_type": "markdown",
   "metadata": {
    "papermill": {
     "duration": 0.026597,
     "end_time": "2020-11-06T00:15:44.148554",
     "exception": false,
     "start_time": "2020-11-06T00:15:44.121957",
     "status": "completed"
    },
    "tags": []
   },
   "source": [
    "# Defining a Loss Function and optimizer\n",
    "**We will use a classification Cross-Entropy loss and Stochastic Gradient Descent(SGD) with momentum**"
   ]
  },
  {
   "cell_type": "code",
   "execution_count": 23,
   "metadata": {
    "execution": {
     "iopub.execute_input": "2020-11-06T00:15:44.209323Z",
     "iopub.status.busy": "2020-11-06T00:15:44.208462Z",
     "iopub.status.idle": "2020-11-06T00:15:44.211159Z",
     "shell.execute_reply": "2020-11-06T00:15:44.211695Z"
    },
    "papermill": {
     "duration": 0.036545,
     "end_time": "2020-11-06T00:15:44.211856",
     "exception": false,
     "start_time": "2020-11-06T00:15:44.175311",
     "status": "completed"
    },
    "tags": []
   },
   "outputs": [],
   "source": [
    "import torch.optim as optim\n",
    "\n",
    "criterion = nn.CrossEntropyLoss()\n",
    "optimizer = optim.SGD(net.parameters(), lr=0.001, momentum=0.9)"
   ]
  },
  {
   "cell_type": "markdown",
   "metadata": {
    "papermill": {
     "duration": 0.026206,
     "end_time": "2020-11-06T00:15:44.264708",
     "exception": false,
     "start_time": "2020-11-06T00:15:44.238502",
     "status": "completed"
    },
    "tags": []
   },
   "source": [
    "# Finally we will train our neural network"
   ]
  },
  {
   "cell_type": "code",
   "execution_count": 24,
   "metadata": {
    "execution": {
     "iopub.execute_input": "2020-11-06T00:15:44.328324Z",
     "iopub.status.busy": "2020-11-06T00:15:44.327117Z",
     "iopub.status.idle": "2020-11-06T00:19:25.425139Z",
     "shell.execute_reply": "2020-11-06T00:19:25.425743Z"
    },
    "papermill": {
     "duration": 221.134636,
     "end_time": "2020-11-06T00:19:25.425959",
     "exception": false,
     "start_time": "2020-11-06T00:15:44.291323",
     "status": "completed"
    },
    "tags": []
   },
   "outputs": [
    {
     "name": "stdout",
     "output_type": "stream",
     "text": [
      "[1,  2000] loss: 2.302\n",
      "[1,  4000] loss: 2.273\n",
      "[1,  6000] loss: 2.178\n",
      "[1,  8000] loss: 2.117\n",
      "[2,  2000] loss: 2.049\n",
      "[2,  4000] loss: 2.004\n",
      "[2,  6000] loss: 1.982\n",
      "[2,  8000] loss: 1.940\n",
      "[3,  2000] loss: 1.924\n",
      "[3,  4000] loss: 1.893\n",
      "[3,  6000] loss: 1.875\n",
      "[3,  8000] loss: 1.862\n",
      "[4,  2000] loss: 1.824\n",
      "[4,  4000] loss: 1.810\n",
      "[4,  6000] loss: 1.809\n",
      "[4,  8000] loss: 1.791\n",
      "[5,  2000] loss: 1.784\n",
      "[5,  4000] loss: 1.781\n",
      "[5,  6000] loss: 1.767\n",
      "[5,  8000] loss: 1.748\n",
      "Finished Training\n"
     ]
    }
   ],
   "source": [
    "for epoch in range(5):  # loop over the dataset multiple times\n",
    "\n",
    "    running_loss = 0.0\n",
    "    for i, data in enumerate(trainloader, 0):\n",
    "        # get the inputs; data is a list of [inputs, labels]\n",
    "        inputs, labels = data\n",
    "\n",
    "        # zero the parameter gradients\n",
    "        optimizer.zero_grad()\n",
    "\n",
    "        # forward + backward + optimize\n",
    "        outputs = net(inputs)\n",
    "        loss = criterion(outputs, labels)\n",
    "        loss.backward()\n",
    "        optimizer.step()\n",
    "\n",
    "        # print statistics\n",
    "        running_loss += loss.item()\n",
    "        if i % 2000 == 1999:    # print every 2000 mini-batches\n",
    "            print('[%d, %5d] loss: %.3f' %\n",
    "                  (epoch + 1, i + 1, running_loss / 2000))\n",
    "            running_loss = 0.0\n",
    "\n",
    "print('Finished Training')"
   ]
  },
  {
   "cell_type": "markdown",
   "metadata": {
    "papermill": {
     "duration": 0.034672,
     "end_time": "2020-11-06T00:19:25.496239",
     "exception": false,
     "start_time": "2020-11-06T00:19:25.461567",
     "status": "completed"
    },
    "tags": []
   },
   "source": [
    "# Now we will save our model"
   ]
  },
  {
   "cell_type": "code",
   "execution_count": 26,
   "metadata": {
    "execution": {
     "iopub.execute_input": "2020-11-06T00:19:25.573588Z",
     "iopub.status.busy": "2020-11-06T00:19:25.572833Z",
     "iopub.status.idle": "2020-11-06T00:19:25.580674Z",
     "shell.execute_reply": "2020-11-06T00:19:25.579933Z"
    },
    "papermill": {
     "duration": 0.049606,
     "end_time": "2020-11-06T00:19:25.580804",
     "exception": false,
     "start_time": "2020-11-06T00:19:25.531198",
     "status": "completed"
    },
    "tags": []
   },
   "outputs": [],
   "source": [
    "PATH = './cifar_net.pth'\n",
    "torch.save(net.state_dict(), PATH)"
   ]
  },
  {
   "cell_type": "markdown",
   "metadata": {
    "papermill": {
     "duration": 0.035134,
     "end_time": "2020-11-06T00:19:25.651361",
     "exception": false,
     "start_time": "2020-11-06T00:19:25.616227",
     "status": "completed"
    },
    "tags": []
   },
   "source": [
    "# Let's test the accuracy of the model"
   ]
  },
  {
   "cell_type": "markdown",
   "metadata": {
    "papermill": {
     "duration": 0.034916,
     "end_time": "2020-11-06T00:19:25.721891",
     "exception": false,
     "start_time": "2020-11-06T00:19:25.686975",
     "status": "completed"
    },
    "tags": []
   },
   "source": [
    "**Displaying an image from test set**"
   ]
  },
  {
   "cell_type": "code",
   "execution_count": 29,
   "metadata": {
    "execution": {
     "iopub.execute_input": "2020-11-06T00:19:25.801752Z",
     "iopub.status.busy": "2020-11-06T00:19:25.800644Z",
     "iopub.status.idle": "2020-11-06T00:19:26.021770Z",
     "shell.execute_reply": "2020-11-06T00:19:26.022566Z"
    },
    "papermill": {
     "duration": 0.265656,
     "end_time": "2020-11-06T00:19:26.022771",
     "exception": false,
     "start_time": "2020-11-06T00:19:25.757115",
     "status": "completed"
    },
    "tags": []
   },
   "outputs": [
    {
     "data": {
      "image/png": "[encoded data removed]",
      "text/plain": [
       "<Figure size 640x480 with 1 Axes>"
      ]
     },
     "metadata": {},
     "output_type": "display_data"
    },
    {
     "name": "stdout",
     "output_type": "stream",
     "text": [
      "GroundTruth:    cat  ship  ship plane  frog  frog\n"
     ]
    }
   ],
   "source": [
    "dataiter = iter(testloader)\n",
    "images, labels = next(dataiter)\n",
    "\n",
    "# print images\n",
    "imshow(torchvision.utils.make_grid(images))\n",
    "print('GroundTruth: ', ' '.join('%5s' % classes[labels[j]] for j in range(6)))"
   ]
  },
  {
   "cell_type": "markdown",
   "metadata": {
    "papermill": {
     "duration": 0.037091,
     "end_time": "2020-11-06T00:19:26.098903",
     "exception": false,
     "start_time": "2020-11-06T00:19:26.061812",
     "status": "completed"
    },
    "tags": []
   },
   "source": [
    "**We will now see how the neural network predicts the above image**"
   ]
  },
  {
   "cell_type": "code",
   "execution_count": 30,
   "metadata": {
    "execution": {
     "iopub.execute_input": "2020-11-06T00:19:26.181959Z",
     "iopub.status.busy": "2020-11-06T00:19:26.180945Z",
     "iopub.status.idle": "2020-11-06T00:19:26.186304Z",
     "shell.execute_reply": "2020-11-06T00:19:26.185573Z"
    },
    "papermill": {
     "duration": 0.049897,
     "end_time": "2020-11-06T00:19:26.186424",
     "exception": false,
     "start_time": "2020-11-06T00:19:26.136527",
     "status": "completed"
    },
    "tags": []
   },
   "outputs": [],
   "source": [
    "outputs = net(images)"
   ]
  },
  {
   "cell_type": "markdown",
   "metadata": {
    "papermill": {
     "duration": 0.037658,
     "end_time": "2020-11-06T00:19:26.262325",
     "exception": false,
     "start_time": "2020-11-06T00:19:26.224667",
     "status": "completed"
    },
    "tags": []
   },
   "source": [
    "**The outputs are energies for the 10 classes. The higher the energy for a class, the more the network thinks that the image is of the particular class. So, let’s get the index of the highest energy:**"
   ]
  },
  {
   "cell_type": "code",
   "execution_count": 32,
   "metadata": {
    "execution": {
     "iopub.execute_input": "2020-11-06T00:19:26.344527Z",
     "iopub.status.busy": "2020-11-06T00:19:26.341922Z",
     "iopub.status.idle": "2020-11-06T00:19:26.350782Z",
     "shell.execute_reply": "2020-11-06T00:19:26.351379Z"
    },
    "papermill": {
     "duration": 0.051291,
     "end_time": "2020-11-06T00:19:26.351553",
     "exception": false,
     "start_time": "2020-11-06T00:19:26.300262",
     "status": "completed"
    },
    "tags": []
   },
   "outputs": [
    {
     "name": "stdout",
     "output_type": "stream",
     "text": [
      "Predicted:   ship  ship  ship plane  deer  frog\n"
     ]
    }
   ],
   "source": [
    "_, predicted = torch.max(outputs, 1)\n",
    "\n",
    "print('Predicted: ', ' '.join('%5s' % classes[predicted[j]]\n",
    "                              for j in range(6)))"
   ]
  },
  {
   "cell_type": "markdown",
   "metadata": {
    "papermill": {
     "duration": 0.037884,
     "end_time": "2020-11-06T00:19:26.428105",
     "exception": false,
     "start_time": "2020-11-06T00:19:26.390221",
     "status": "completed"
    },
    "tags": []
   },
   "source": [
    "**Let us look at how the network performs on the whole dataset.**"
   ]
  },
  {
   "cell_type": "code",
   "execution_count": 33,
   "metadata": {
    "execution": {
     "iopub.execute_input": "2020-11-06T00:19:26.514739Z",
     "iopub.status.busy": "2020-11-06T00:19:26.513979Z",
     "iopub.status.idle": "2020-11-06T00:19:31.836462Z",
     "shell.execute_reply": "2020-11-06T00:19:31.837205Z"
    },
    "papermill": {
     "duration": 5.37107,
     "end_time": "2020-11-06T00:19:31.837359",
     "exception": false,
     "start_time": "2020-11-06T00:19:26.466289",
     "status": "completed"
    },
    "tags": []
   },
   "outputs": [
    {
     "name": "stdout",
     "output_type": "stream",
     "text": [
      "Accuracy of the network on the 10000 test images: 33 %\n"
     ]
    }
   ],
   "source": [
    "correct = 0\n",
    "total = 0\n",
    "with torch.no_grad():\n",
    "    for data in testloader:\n",
    "        images, labels = data\n",
    "        outputs = net(images)\n",
    "        _, predicted = torch.max(outputs.data, 1)\n",
    "        total += labels.size(0)\n",
    "        correct += (predicted == labels).sum().item()\n",
    "\n",
    "print('Accuracy of the network on the 10000 test images: %d %%' % (\n",
    "    100 * correct / total))"
   ]
  },
  {
   "cell_type": "markdown",
   "metadata": {
    "papermill": {
     "duration": 0.047911,
     "end_time": "2020-11-06T00:19:31.934242",
     "exception": false,
     "start_time": "2020-11-06T00:19:31.886331",
     "status": "completed"
    },
    "tags": []
   },
   "source": [
    "**Let's see which classes performed well individually**"
   ]
  },
  {
   "cell_type": "code",
   "execution_count": 34,
   "metadata": {
    "execution": {
     "iopub.execute_input": "2020-11-06T00:19:32.041190Z",
     "iopub.status.busy": "2020-11-06T00:19:32.040074Z",
     "iopub.status.idle": "2020-11-06T00:19:37.309424Z",
     "shell.execute_reply": "2020-11-06T00:19:37.310091Z"
    },
    "papermill": {
     "duration": 5.327629,
     "end_time": "2020-11-06T00:19:37.310275",
     "exception": false,
     "start_time": "2020-11-06T00:19:31.982646",
     "status": "completed"
    },
    "tags": []
   },
   "outputs": [
    {
     "name": "stdout",
     "output_type": "stream",
     "text": [
      "Accuracy of plane : 34 %\n",
      "Accuracy of   car : 47 %\n",
      "Accuracy of  bird : 12 %\n",
      "Accuracy of   cat : 30 %\n",
      "Accuracy of  deer : 40 %\n",
      "Accuracy of   dog : 32 %\n",
      "Accuracy of  frog : 30 %\n",
      "Accuracy of horse : 24 %\n",
      "Accuracy of  ship : 46 %\n",
      "Accuracy of truck : 24 %\n"
     ]
    }
   ],
   "source": [
    "class_correct = list(0. for i in range(10))\n",
    "class_total = list(0. for i in range(10))\n",
    "with torch.no_grad():\n",
    "    for data in testloader:\n",
    "        images, labels = data\n",
    "        outputs = net(images)\n",
    "        _, predicted = torch.max(outputs, 1)\n",
    "        c = (predicted == labels).squeeze()\n",
    "        for i in range(4):\n",
    "            label = labels[i]\n",
    "            class_correct[label] += c[i].item()\n",
    "            class_total[label] += 1\n",
    "\n",
    "\n",
    "for i in range(10):\n",
    "    print('Accuracy of %5s : %2d %%' % (\n",
    "        classes[i], 100 * class_correct[i] / class_total[i]))"
   ]
  },
  {
   "cell_type": "code",
   "execution_count": null,
   "metadata": {},
   "outputs": [],
   "source": []
  }
 ],
 "metadata": {
  "kernelspec": {
   "display_name": "Python 3 (ipykernel)",
   "language": "python",
   "name": "python3"
  },
  "language_info": {
   "codemirror_mode": {
    "name": "ipython",
    "version": 3
   },
   "file_extension": ".py",
   "mimetype": "text/x-python",
   "name": "python",
   "nbconvert_exporter": "python",
   "pygments_lexer": "ipython3",
   "version": "3.7.5"
  },
  "papermill": {
   "duration": 247.72117,
   "end_time": "2020-11-06T00:19:37.463107",
   "environment_variables": {},
   "exception": null,
   "input_path": "__notebook__.ipynb",
   "output_path": "__notebook__.ipynb",
   "parameters": {},
   "start_time": "2020-11-06T00:15:29.741937",
   "version": "2.1.0"
  },
  "toc": {
   "base_numbering": 1,
   "nav_menu": {},
   "number_sections": true,
   "sideBar": true,
   "skip_h1_title": false,
   "title_cell": "Table of Contents",
   "title_sidebar": "Contents",
   "toc_cell": false,
   "toc_position": {},
   "toc_section_display": true,
   "toc_window_display": false
  },
  "widgets": {
   "application/vnd.jupyter.widget-state+json": {
    "state": {
     "50317dacee714914a7c768e44e2e34b6": {
      "model_module": "@jupyter-widgets/controls",
      "model_module_version": "1.5.0",
      "model_name": "DescriptionStyleModel",
      "state": {
       "_model_module": "@jupyter-widgets/controls",
       "_model_module_version": "1.5.0",
       "_model_name": "DescriptionStyleModel",
       "_view_count": null,
       "_view_module": "@jupyter-widgets/base",
       "_view_module_version": "1.2.0",
       "_view_name": "StyleView",
       "description_width": ""
      }
     },
     "52764f1e33d2479dabcc4dc18fb22f1f": {
      "model_module": "@jupyter-widgets/controls",
      "model_module_version": "1.5.0",
      "model_name": "FloatProgressModel",
      "state": {
       "_dom_classes": [],
       "_model_module": "@jupyter-widgets/controls",
       "_model_module_version": "1.5.0",
       "_model_name": "FloatProgressModel",
       "_view_count": null,
       "_view_module": "@jupyter-widgets/controls",
       "_view_module_version": "1.5.0",
       "_view_name": "ProgressView",
       "bar_style": "success",
       "description": "",
       "description_tooltip": null,
       "layout": "IPY_MODEL_5dde29beb0db4ab89bb94dcef0f4001d",
       "max": 1,
       "min": 0,
       "orientation": "horizontal",
       "style": "IPY_MODEL_a396387dd5484d4bb9b1bb26e8e713ad",
       "value": 1
      }
     },
     "537bf2a5a70a480e81b26c269c4af603": {
      "model_module": "@jupyter-widgets/base",
      "model_module_version": "1.2.0",
      "model_name": "LayoutModel",
      "state": {
       "_model_module": "@jupyter-widgets/base",
       "_model_module_version": "1.2.0",
       "_model_name": "LayoutModel",
       "_view_count": null,
       "_view_module": "@jupyter-widgets/base",
       "_view_module_version": "1.2.0",
       "_view_name": "LayoutView",
       "align_content": null,
       "align_items": null,
       "align_self": null,
       "border": null,
       "bottom": null,
       "display": null,
       "flex": null,
       "flex_flow": null,
       "grid_area": null,
       "grid_auto_columns": null,
       "grid_auto_flow": null,
       "grid_auto_rows": null,
       "grid_column": null,
       "grid_gap": null,
       "grid_row": null,
       "grid_template_areas": null,
       "grid_template_columns": null,
       "grid_template_rows": null,
       "height": null,
       "justify_content": null,
       "justify_items": null,
       "left": null,
       "margin": null,
       "max_height": null,
       "max_width": null,
       "min_height": null,
       "min_width": null,
       "object_fit": null,
       "object_position": null,
       "order": null,
       "overflow": null,
       "overflow_x": null,
       "overflow_y": null,
       "padding": null,
       "right": null,
       "top": null,
       "visibility": null,
       "width": null
      }
     },
     "5dde29beb0db4ab89bb94dcef0f4001d": {
      "model_module": "@jupyter-widgets/base",
      "model_module_version": "1.2.0",
      "model_name": "LayoutModel",
      "state": {
       "_model_module": "@jupyter-widgets/base",
       "_model_module_version": "1.2.0",
       "_model_name": "LayoutModel",
       "_view_count": null,
       "_view_module": "@jupyter-widgets/base",
       "_view_module_version": "1.2.0",
       "_view_name": "LayoutView",
       "align_content": null,
       "align_items": null,
       "align_self": null,
       "border": null,
       "bottom": null,
       "display": null,
       "flex": null,
       "flex_flow": null,
       "grid_area": null,
       "grid_auto_columns": null,
       "grid_auto_flow": null,
       "grid_auto_rows": null,
       "grid_column": null,
       "grid_gap": null,
       "grid_row": null,
       "grid_template_areas": null,
       "grid_template_columns": null,
       "grid_template_rows": null,
       "height": null,
       "justify_content": null,
       "justify_items": null,
       "left": null,
       "margin": null,
       "max_height": null,
       "max_width": null,
       "min_height": null,
       "min_width": null,
       "object_fit": null,
       "object_position": null,
       "order": null,
       "overflow": null,
       "overflow_x": null,
       "overflow_y": null,
       "padding": null,
       "right": null,
       "top": null,
       "visibility": null,
       "width": null
      }
     },
     "6d335e4903d343858236945007ea374c": {
      "model_module": "@jupyter-widgets/controls",
      "model_module_version": "1.5.0",
      "model_name": "HBoxModel",
      "state": {
       "_dom_classes": [],
       "_model_module": "@jupyter-widgets/controls",
       "_model_module_version": "1.5.0",
       "_model_name": "HBoxModel",
       "_view_count": null,
       "_view_module": "@jupyter-widgets/controls",
       "_view_module_version": "1.5.0",
       "_view_name": "HBoxView",
       "box_style": "",
       "children": [
        "IPY_MODEL_52764f1e33d2479dabcc4dc18fb22f1f",
        "IPY_MODEL_d264e5ee4d7a47838bc2e2c2abb92a74"
       ],
       "layout": "IPY_MODEL_537bf2a5a70a480e81b26c269c4af603"
      }
     },
     "81a577f753e0473694b28dc9087a1f53": {
      "model_module": "@jupyter-widgets/base",
      "model_module_version": "1.2.0",
      "model_name": "LayoutModel",
      "state": {
       "_model_module": "@jupyter-widgets/base",
       "_model_module_version": "1.2.0",
       "_model_name": "LayoutModel",
       "_view_count": null,
       "_view_module": "@jupyter-widgets/base",
       "_view_module_version": "1.2.0",
       "_view_name": "LayoutView",
       "align_content": null,
       "align_items": null,
       "align_self": null,
       "border": null,
       "bottom": null,
       "display": null,
       "flex": null,
       "flex_flow": null,
       "grid_area": null,
       "grid_auto_columns": null,
       "grid_auto_flow": null,
       "grid_auto_rows": null,
       "grid_column": null,
       "grid_gap": null,
       "grid_row": null,
       "grid_template_areas": null,
       "grid_template_columns": null,
       "grid_template_rows": null,
       "height": null,
       "justify_content": null,
       "justify_items": null,
       "left": null,
       "margin": null,
       "max_height": null,
       "max_width": null,
       "min_height": null,
       "min_width": null,
       "object_fit": null,
       "object_position": null,
       "order": null,
       "overflow": null,
       "overflow_x": null,
       "overflow_y": null,
       "padding": null,
       "right": null,
       "top": null,
       "visibility": null,
       "width": null
      }
     },
     "a396387dd5484d4bb9b1bb26e8e713ad": {
      "model_module": "@jupyter-widgets/controls",
      "model_module_version": "1.5.0",
      "model_name": "ProgressStyleModel",
      "state": {
       "_model_module": "@jupyter-widgets/controls",
       "_model_module_version": "1.5.0",
       "_model_name": "ProgressStyleModel",
       "_view_count": null,
       "_view_module": "@jupyter-widgets/base",
       "_view_module_version": "1.2.0",
       "_view_name": "StyleView",
       "bar_color": null,
       "description_width": "initial"
      }
     },
     "d264e5ee4d7a47838bc2e2c2abb92a74": {
      "model_module": "@jupyter-widgets/controls",
      "model_module_version": "1.5.0",
      "model_name": "HTMLModel",
      "state": {
       "_dom_classes": [],
       "_model_module": "@jupyter-widgets/controls",
       "_model_module_version": "1.5.0",
       "_model_name": "HTMLModel",
       "_view_count": null,
       "_view_module": "@jupyter-widgets/controls",
       "_view_module_version": "1.5.0",
       "_view_name": "HTMLView",
       "description": "",
       "description_tooltip": null,
       "layout": "IPY_MODEL_81a577f753e0473694b28dc9087a1f53",
       "placeholder": "​",
       "style": "IPY_MODEL_50317dacee714914a7c768e44e2e34b6",
       "value": " 170500096/? [00:08&lt;00:00, 20540727.10it/s]"
      }
     }
    },
    "version_major": 2,
    "version_minor": 0
   }
  }
 },
 "nbformat": 4,
 "nbformat_minor": 4
}
